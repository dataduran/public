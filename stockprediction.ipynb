{
  "nbformat": 4,
  "nbformat_minor": 0,
  "metadata": {
    "colab": {
      "name": "stockprediction.ipynb",
      "provenance": [],
      "collapsed_sections": [],
      "toc_visible": true,
      "authorship_tag": "ABX9TyMfInZgpURU6UOAm35mO/+9",
      "include_colab_link": true
    },
    "kernelspec": {
      "name": "python3",
      "display_name": "Python 3"
    },
    "language_info": {
      "name": "python"
    }
  },
  "cells": [
    {
      "cell_type": "markdown",
      "metadata": {
        "id": "view-in-github",
        "colab_type": "text"
      },
      "source": [
        "<a href=\"https://colab.research.google.com/github/dataduran/public/blob/main/stockprediction.ipynb\" target=\"_parent\"><img src=\"https://colab.research.google.com/assets/colab-badge.svg\" alt=\"Open In Colab\"/></a>"
      ]
    },
    {
      "cell_type": "markdown",
      "metadata": {
        "id": "tpefzC-gy8L2"
      },
      "source": [
        "# Predictor S&P - Xarxes neuronals"
      ]
    },
    {
      "cell_type": "code",
      "metadata": {
        "id": "dKRFbHqSZw3w"
      },
      "source": [
        "#Descripció: aquest programa utilitza xarxes neurals artificials recurrents anomenades \"long short term memory\" (LSTM)\n",
        "# fem la predicció de l'index (S&P) utilitzant els últims 60 dies."
      ],
      "execution_count": null,
      "outputs": []
    },
    {
      "cell_type": "code",
      "metadata": {
        "id": "SKlVyzixaH6t"
      },
      "source": [
        "# import the libraries\n",
        "import math\n",
        "import datetime\n",
        "import pandas_datareader.data as web\n",
        "import numpy as np\n",
        "import pandas as pd\n",
        "from sklearn.preprocessing import MinMaxScaler\n",
        "from keras.models import Sequential\n",
        "from keras.layers import Dense, LSTM\n",
        "import matplotlib.pyplot as plt\n",
        "plt.style.use('fivethirtyeight')"
      ],
      "execution_count": 1,
      "outputs": []
    },
    {
      "cell_type": "code",
      "metadata": {
        "colab": {
          "base_uri": "https://localhost:8080/"
        },
        "id": "FgRQ2EHjxFUE",
        "outputId": "be43559c-0bfd-4979-abc5-1873e7de05d0"
      },
      "source": [
        "today = datetime.date.today()\n",
        "print(today)"
      ],
      "execution_count": 2,
      "outputs": [
        {
          "output_type": "stream",
          "name": "stdout",
          "text": [
            "2021-11-23\n"
          ]
        }
      ]
    },
    {
      "cell_type": "code",
      "metadata": {
        "colab": {
          "base_uri": "https://localhost:8080/",
          "height": 455
        },
        "id": "vYi1BXrZasDD",
        "outputId": "9bf138f9-946a-4a16-fac0-5803e641d042"
      },
      "source": [
        "# get the stock quote\n",
        "df = web.DataReader('^SPX', data_source='stooq' , start='2010-09-10', end= today )\n",
        "df = df.iloc[::-1]\n",
        "df"
      ],
      "execution_count": 3,
      "outputs": [
        {
          "output_type": "execute_result",
          "data": {
            "text/html": [
              "<div>\n",
              "<style scoped>\n",
              "    .dataframe tbody tr th:only-of-type {\n",
              "        vertical-align: middle;\n",
              "    }\n",
              "\n",
              "    .dataframe tbody tr th {\n",
              "        vertical-align: top;\n",
              "    }\n",
              "\n",
              "    .dataframe thead th {\n",
              "        text-align: right;\n",
              "    }\n",
              "</style>\n",
              "<table border=\"1\" class=\"dataframe\">\n",
              "  <thead>\n",
              "    <tr style=\"text-align: right;\">\n",
              "      <th></th>\n",
              "      <th>Open</th>\n",
              "      <th>High</th>\n",
              "      <th>Low</th>\n",
              "      <th>Close</th>\n",
              "      <th>Volume</th>\n",
              "    </tr>\n",
              "    <tr>\n",
              "      <th>Date</th>\n",
              "      <th></th>\n",
              "      <th></th>\n",
              "      <th></th>\n",
              "      <th></th>\n",
              "      <th></th>\n",
              "    </tr>\n",
              "  </thead>\n",
              "  <tbody>\n",
              "    <tr>\n",
              "      <th>2010-09-10</th>\n",
              "      <td>1104.57</td>\n",
              "      <td>1110.88</td>\n",
              "      <td>1103.92</td>\n",
              "      <td>1109.55</td>\n",
              "      <td>1700644444</td>\n",
              "    </tr>\n",
              "    <tr>\n",
              "      <th>2010-09-13</th>\n",
              "      <td>1113.38</td>\n",
              "      <td>1123.87</td>\n",
              "      <td>1113.38</td>\n",
              "      <td>1121.90</td>\n",
              "      <td>2511694444</td>\n",
              "    </tr>\n",
              "    <tr>\n",
              "      <th>2010-09-14</th>\n",
              "      <td>1121.16</td>\n",
              "      <td>1127.36</td>\n",
              "      <td>1115.58</td>\n",
              "      <td>1121.10</td>\n",
              "      <td>2511694444</td>\n",
              "    </tr>\n",
              "    <tr>\n",
              "      <th>2010-09-15</th>\n",
              "      <td>1119.43</td>\n",
              "      <td>1126.46</td>\n",
              "      <td>1114.63</td>\n",
              "      <td>1125.07</td>\n",
              "      <td>1872133333</td>\n",
              "    </tr>\n",
              "    <tr>\n",
              "      <th>2010-09-16</th>\n",
              "      <td>1123.89</td>\n",
              "      <td>1125.44</td>\n",
              "      <td>1118.88</td>\n",
              "      <td>1124.66</td>\n",
              "      <td>1868933333</td>\n",
              "    </tr>\n",
              "    <tr>\n",
              "      <th>...</th>\n",
              "      <td>...</td>\n",
              "      <td>...</td>\n",
              "      <td>...</td>\n",
              "      <td>...</td>\n",
              "      <td>...</td>\n",
              "    </tr>\n",
              "    <tr>\n",
              "      <th>2021-11-16</th>\n",
              "      <td>4679.42</td>\n",
              "      <td>4714.95</td>\n",
              "      <td>4679.42</td>\n",
              "      <td>4700.90</td>\n",
              "      <td>1969710437</td>\n",
              "    </tr>\n",
              "    <tr>\n",
              "      <th>2021-11-17</th>\n",
              "      <td>4701.50</td>\n",
              "      <td>4701.50</td>\n",
              "      <td>4684.41</td>\n",
              "      <td>4688.67</td>\n",
              "      <td>2073793765</td>\n",
              "    </tr>\n",
              "    <tr>\n",
              "      <th>2021-11-18</th>\n",
              "      <td>4700.72</td>\n",
              "      <td>4708.80</td>\n",
              "      <td>4672.78</td>\n",
              "      <td>4704.54</td>\n",
              "      <td>2229419489</td>\n",
              "    </tr>\n",
              "    <tr>\n",
              "      <th>2021-11-19</th>\n",
              "      <td>4708.44</td>\n",
              "      <td>4717.75</td>\n",
              "      <td>4694.22</td>\n",
              "      <td>4697.96</td>\n",
              "      <td>2452147236</td>\n",
              "    </tr>\n",
              "    <tr>\n",
              "      <th>2021-11-22</th>\n",
              "      <td>4712.00</td>\n",
              "      <td>4743.83</td>\n",
              "      <td>4682.17</td>\n",
              "      <td>4682.94</td>\n",
              "      <td>2465454579</td>\n",
              "    </tr>\n",
              "  </tbody>\n",
              "</table>\n",
              "<p>2821 rows × 5 columns</p>\n",
              "</div>"
            ],
            "text/plain": [
              "               Open     High      Low    Close      Volume\n",
              "Date                                                      \n",
              "2010-09-10  1104.57  1110.88  1103.92  1109.55  1700644444\n",
              "2010-09-13  1113.38  1123.87  1113.38  1121.90  2511694444\n",
              "2010-09-14  1121.16  1127.36  1115.58  1121.10  2511694444\n",
              "2010-09-15  1119.43  1126.46  1114.63  1125.07  1872133333\n",
              "2010-09-16  1123.89  1125.44  1118.88  1124.66  1868933333\n",
              "...             ...      ...      ...      ...         ...\n",
              "2021-11-16  4679.42  4714.95  4679.42  4700.90  1969710437\n",
              "2021-11-17  4701.50  4701.50  4684.41  4688.67  2073793765\n",
              "2021-11-18  4700.72  4708.80  4672.78  4704.54  2229419489\n",
              "2021-11-19  4708.44  4717.75  4694.22  4697.96  2452147236\n",
              "2021-11-22  4712.00  4743.83  4682.17  4682.94  2465454579\n",
              "\n",
              "[2821 rows x 5 columns]"
            ]
          },
          "metadata": {},
          "execution_count": 3
        }
      ]
    },
    {
      "cell_type": "code",
      "metadata": {
        "colab": {
          "base_uri": "https://localhost:8080/"
        },
        "id": "Kim72-3sq3NN",
        "outputId": "1eccb49e-a2b5-426e-df30-b7685cd5fdae"
      },
      "source": [
        "df.shape"
      ],
      "execution_count": null,
      "outputs": [
        {
          "output_type": "execute_result",
          "data": {
            "text/plain": [
              "(2816, 5)"
            ]
          },
          "metadata": {},
          "execution_count": 24
        }
      ]
    },
    {
      "cell_type": "code",
      "metadata": {
        "colab": {
          "base_uri": "https://localhost:8080/",
          "height": 558
        },
        "id": "E7pZxzplrFCM",
        "outputId": "3a694d4f-b2e1-4803-d8cf-75ed9229236a"
      },
      "source": [
        "#visualize the closing price history\n",
        "plt.figure(figsize=(16,8))\n",
        "plt.title('Close Price history')\n",
        "plt.plot(df['Close'])\n",
        "plt.xlabel('Date', fontsize= 18)\n",
        "plt.ylabel('Close Price USD ($)', fontsize= 18)\n",
        "plt.show()"
      ],
      "execution_count": null,
      "outputs": [
        {
          "output_type": "display_data",
          "data": {
            "image/png": "[encoded data removed]",
            "text/plain": [
              "<Figure size 1152x576 with 1 Axes>"
            ]
          },
          "metadata": {}
        }
      ]
    },
    {
      "cell_type": "code",
      "metadata": {
        "colab": {
          "base_uri": "https://localhost:8080/"
        },
        "id": "mFb2PsY0s-Uh",
        "outputId": "e3fe47ec-86c2-48d1-a257-62129f4342dd"
      },
      "source": [
        "#create new dataframe with only the close column\n",
        "data = df.filter(['Close'])\n",
        "#convert the dataframe to a numpy array\n",
        "dataset = data.values\n",
        "#get the number of rows to train the model on\n",
        "training_data_len = math.ceil(len(dataset)*.8)\n",
        "\n",
        "training_data_len"
      ],
      "execution_count": null,
      "outputs": [
        {
          "output_type": "execute_result",
          "data": {
            "text/plain": [
              "2253"
            ]
          },
          "metadata": {},
          "execution_count": 5
        }
      ]
    },
    {
      "cell_type": "code",
      "metadata": {
        "colab": {
          "base_uri": "https://localhost:8080/"
        },
        "id": "FNqRdsAItfSB",
        "outputId": "9cc73242-84cb-4649-b82f-6efe656518cc"
      },
      "source": [
        "#scale the data\n",
        "scaler = MinMaxScaler(feature_range=(0,1))\n",
        "scaled_data = scaler.fit_transform(dataset)\n",
        "\n",
        "scaled_data"
      ],
      "execution_count": null,
      "outputs": [
        {
          "output_type": "execute_result",
          "data": {
            "text/plain": [
              "array([[0.0028647 ],\n",
              "       [0.0062929 ],\n",
              "       [0.00607083],\n",
              "       ...,\n",
              "       [0.9854461 ],\n",
              "       [0.99476748],\n",
              "       [0.9947536 ]])"
            ]
          },
          "metadata": {},
          "execution_count": 6
        }
      ]
    },
    {
      "cell_type": "code",
      "metadata": {
        "colab": {
          "base_uri": "https://localhost:8080/"
        },
        "id": "Cy4OmgZk3VQE",
        "outputId": "b4eb6987-1413-452a-e469-b10d78dc3e7e"
      },
      "source": [
        "#create training data set\n",
        "#create the scaled training data set\n",
        "train_data = scaled_data[0:training_data_len, :]\n",
        "#split the data into x_train and y_train data sets\n",
        "x_train = []\n",
        "y_train = []\n",
        "\n",
        "for i in range(60, len(train_data)):\n",
        "  x_train.append(train_data[i-60:i, 0])\n",
        "  y_train.append(train_data[i, 0])\n",
        "  if i <= 61:\n",
        "    print(x_train)\n",
        "    print(y_train)\n",
        "    print()"
      ],
      "execution_count": null,
      "outputs": [
        {
          "output_type": "stream",
          "name": "stdout",
          "text": [
            "[array([0.0028647 , 0.0062929 , 0.00607083, 0.00717286, 0.00705905,\n",
            "       0.0073172 , 0.0120695 , 0.01125617, 0.00972944, 0.00710624,\n",
            "       0.01372392, 0.01191682, 0.01345466, 0.01263022, 0.01165034,\n",
            "       0.01304938, 0.0104928 , 0.01707717, 0.01686065, 0.01633046,\n",
            "       0.01829856, 0.01834575, 0.01958101, 0.02189331, 0.02070246,\n",
            "       0.02136312, 0.02372816, 0.01850675, 0.02191274, 0.0224929 ,\n",
            "       0.0232757 , 0.02398077, 0.02398632, 0.02310082, 0.02347001,\n",
            "       0.02332566, 0.02363656, 0.02618759, 0.0274062 , 0.03381846,\n",
            "       0.03514811, 0.03442638, 0.03169214, 0.03316613, 0.03173101,\n",
            "       0.02775318, 0.0273479 , 0.02195993, 0.02202933, 0.02705366,\n",
            "       0.02789753, 0.02737289, 0.02262337, 0.02751446, 0.02503005,\n",
            "       0.02457481, 0.0225734 , 0.02965743, 0.03394893, 0.03483166])]\n",
            "[0.03439029332652316]\n",
            "\n",
            "[array([0.0028647 , 0.0062929 , 0.00607083, 0.00717286, 0.00705905,\n",
            "       0.0073172 , 0.0120695 , 0.01125617, 0.00972944, 0.00710624,\n",
            "       0.01372392, 0.01191682, 0.01345466, 0.01263022, 0.01165034,\n",
            "       0.01304938, 0.0104928 , 0.01707717, 0.01686065, 0.01633046,\n",
            "       0.01829856, 0.01834575, 0.01958101, 0.02189331, 0.02070246,\n",
            "       0.02136312, 0.02372816, 0.01850675, 0.02191274, 0.0224929 ,\n",
            "       0.0232757 , 0.02398077, 0.02398632, 0.02310082, 0.02347001,\n",
            "       0.02332566, 0.02363656, 0.02618759, 0.0274062 , 0.03381846,\n",
            "       0.03514811, 0.03442638, 0.03169214, 0.03316613, 0.03173101,\n",
            "       0.02775318, 0.0273479 , 0.02195993, 0.02202933, 0.02705366,\n",
            "       0.02789753, 0.02737289, 0.02262337, 0.02751446, 0.02503005,\n",
            "       0.02457481, 0.0225734 , 0.02965743, 0.03394893, 0.03483166]), array([0.0062929 , 0.00607083, 0.00717286, 0.00705905, 0.0073172 ,\n",
            "       0.0120695 , 0.01125617, 0.00972944, 0.00710624, 0.01372392,\n",
            "       0.01191682, 0.01345466, 0.01263022, 0.01165034, 0.01304938,\n",
            "       0.0104928 , 0.01707717, 0.01686065, 0.01633046, 0.01829856,\n",
            "       0.01834575, 0.01958101, 0.02189331, 0.02070246, 0.02136312,\n",
            "       0.02372816, 0.01850675, 0.02191274, 0.0224929 , 0.0232757 ,\n",
            "       0.02398077, 0.02398632, 0.02310082, 0.02347001, 0.02332566,\n",
            "       0.02363656, 0.02618759, 0.0274062 , 0.03381846, 0.03514811,\n",
            "       0.03442638, 0.03169214, 0.03316613, 0.03173101, 0.02775318,\n",
            "       0.0273479 , 0.02195993, 0.02202933, 0.02705366, 0.02789753,\n",
            "       0.02737289, 0.02262337, 0.02751446, 0.02503005, 0.02457481,\n",
            "       0.0225734 , 0.02965743, 0.03394893, 0.03483166, 0.03439029])]\n",
            "[0.03439029332652316, 0.03456517333940323]\n",
            "\n"
          ]
        }
      ]
    },
    {
      "cell_type": "code",
      "metadata": {
        "id": "kKxUo5_D5QnA"
      },
      "source": [
        "#convert the x_train and y_train to numpy arrays\n",
        "x_train, y_train = np.array(x_train), np.array(y_train)"
      ],
      "execution_count": null,
      "outputs": []
    },
    {
      "cell_type": "code",
      "metadata": {
        "colab": {
          "base_uri": "https://localhost:8080/"
        },
        "id": "uSymri4V5bgz",
        "outputId": "1ebd2528-fb4f-4d9e-e8c7-c715e8e42c5e"
      },
      "source": [
        "#reshape the data\n",
        "x_train = np.reshape(x_train, (x_train.shape[0], x_train.shape[1], 1))\n",
        "x_train.shape"
      ],
      "execution_count": null,
      "outputs": [
        {
          "output_type": "execute_result",
          "data": {
            "text/plain": [
              "(2193, 60, 1)"
            ]
          },
          "metadata": {},
          "execution_count": 9
        }
      ]
    },
    {
      "cell_type": "code",
      "metadata": {
        "id": "zeLrMIXB6bVw"
      },
      "source": [
        "#built the LSTM model\n",
        "model = Sequential()\n",
        "model.add(LSTM(50, return_sequences= True, input_shape = (x_train.shape[1], 1)))\n",
        "model.add(LSTM(50, return_sequences= False))\n",
        "model.add(Dense(25))\n",
        "model.add(Dense(1))"
      ],
      "execution_count": null,
      "outputs": []
    },
    {
      "cell_type": "code",
      "metadata": {
        "id": "p_jzHr1m7Nyd"
      },
      "source": [
        "#compile the model\n",
        "model.compile(optimizer = 'adam' , loss = 'mean_squared_error')"
      ],
      "execution_count": null,
      "outputs": []
    },
    {
      "cell_type": "code",
      "metadata": {
        "colab": {
          "base_uri": "https://localhost:8080/"
        },
        "id": "PJSKGFxZ7kzi",
        "outputId": "33955726-7513-4961-ed78-18c80576b5e9"
      },
      "source": [
        "#train the model\n",
        "model.fit(x_train, y_train, batch_size=1, epochs=1)"
      ],
      "execution_count": null,
      "outputs": [
        {
          "output_type": "stream",
          "name": "stdout",
          "text": [
            "2193/2193 [==============================] - 62s 27ms/step - loss: 3.5175e-04\n"
          ]
        },
        {
          "output_type": "execute_result",
          "data": {
            "text/plain": [
              "<keras.callbacks.History at 0x7f39a3119610>"
            ]
          },
          "metadata": {},
          "execution_count": 12
        }
      ]
    },
    {
      "cell_type": "code",
      "metadata": {
        "id": "4ZKZuJwM8GW6"
      },
      "source": [
        "#create the testing data set\n",
        "#create a new array containing scaled valuesd from index 2253 to 2816\n",
        "test_data = scaled_data[training_data_len - 60: , : ]\n",
        "#create the data sets x_test and y_test\n",
        "x_test = []\n",
        "y_test = dataset[training_data_len: , : ]\n",
        "for i in range(60, len(test_data)):\n",
        "  x_test.append(test_data[i-60:i, 0])\n",
        "\n"
      ],
      "execution_count": null,
      "outputs": []
    },
    {
      "cell_type": "code",
      "metadata": {
        "id": "7SCgj-fW89Gu"
      },
      "source": [
        "#convert the data to a numpy array\n",
        "x_test =np.array(x_test)"
      ],
      "execution_count": null,
      "outputs": []
    },
    {
      "cell_type": "code",
      "metadata": {
        "id": "d_KN1Ohc9LFd"
      },
      "source": [
        "#reshape the data\n",
        "x_test = np.reshape(x_test, (x_test.shape[0], x_test.shape[1], 1))"
      ],
      "execution_count": null,
      "outputs": []
    },
    {
      "cell_type": "code",
      "metadata": {
        "id": "IGrw2tTd9gxN"
      },
      "source": [
        "#get the models predicted price values\n",
        "predictions = model.predict(x_test)\n",
        "predictions = scaler.inverse_transform(predictions)"
      ],
      "execution_count": null,
      "outputs": []
    },
    {
      "cell_type": "code",
      "metadata": {
        "colab": {
          "base_uri": "https://localhost:8080/"
        },
        "id": "nR-YSxP395m6",
        "outputId": "c62a8150-a817-4ed5-faed-e64ecc6693c5"
      },
      "source": [
        "#get the root mean squared error (RMSE)\n",
        "rmse = np.sqrt(np.mean(predictions - y_test)**2)\n",
        "rmse"
      ],
      "execution_count": null,
      "outputs": [
        {
          "output_type": "execute_result",
          "data": {
            "text/plain": [
              "80.10408983681171"
            ]
          },
          "metadata": {},
          "execution_count": 17
        }
      ]
    },
    {
      "cell_type": "code",
      "metadata": {
        "colab": {
          "base_uri": "https://localhost:8080/",
          "height": 660
        },
        "id": "DNFW3yQx-igu",
        "outputId": "c131c0fa-5134-4391-82a3-083398fa04ce"
      },
      "source": [
        "#plot the data\n",
        "train = data[:training_data_len]\n",
        "valid = data[training_data_len:]\n",
        "valid['Predictions'] = predictions\n",
        "#visualize the data\n",
        "plt.figure(figsize=(16,8))\n",
        "plt.title('Model')\n",
        "plt.xlabel('Date', fontsize=18)\n",
        "plt.ylabel('Close Price USD ($)', fontsize=18)\n",
        "plt.plot(train['Close'])\n",
        "plt.plot(valid[['Close', 'Predictions']])\n",
        "plt.legend(['Train', 'Val', 'Predictions'], loc = 'lower right')\n",
        "plt.show()"
      ],
      "execution_count": null,
      "outputs": [
        {
          "output_type": "stream",
          "name": "stderr",
          "text": [
            "/usr/local/lib/python3.7/dist-packages/ipykernel_launcher.py:4: SettingWithCopyWarning: \n",
            "A value is trying to be set on a copy of a slice from a DataFrame.\n",
            "Try using .loc[row_indexer,col_indexer] = value instead\n",
            "\n",
            "See the caveats in the documentation: https://pandas.pydata.org/pandas-docs/stable/user_guide/indexing.html#returning-a-view-versus-a-copy\n",
            "  after removing the cwd from sys.path.\n"
          ]
        },
        {
          "output_type": "display_data",
          "data": {
            "image/png": "[encoded data removed]",
            "text/plain": [
              "<Figure size 1152x576 with 1 Axes>"
            ]
          },
          "metadata": {}
        }
      ]
    },
    {
      "cell_type": "code",
      "metadata": {
        "colab": {
          "base_uri": "https://localhost:8080/",
          "height": 450
        },
        "id": "4_n36sf8GJ6E",
        "outputId": "75ba5bf9-80e9-480f-a61e-b8b3e7059c23"
      },
      "source": [
        "#show the valid and predicted prices\n",
        "valid"
      ],
      "execution_count": null,
      "outputs": [
        {
          "output_type": "execute_result",
          "data": {
            "text/html": [
              "<div>\n",
              "<style scoped>\n",
              "    .dataframe tbody tr th:only-of-type {\n",
              "        vertical-align: middle;\n",
              "    }\n",
              "\n",
              "    .dataframe tbody tr th {\n",
              "        vertical-align: top;\n",
              "    }\n",
              "\n",
              "    .dataframe thead th {\n",
              "        text-align: right;\n",
              "    }\n",
              "</style>\n",
              "<table border=\"1\" class=\"dataframe\">\n",
              "  <thead>\n",
              "    <tr style=\"text-align: right;\">\n",
              "      <th></th>\n",
              "      <th>Close</th>\n",
              "      <th>Predictions</th>\n",
              "    </tr>\n",
              "    <tr>\n",
              "      <th>Date</th>\n",
              "      <th></th>\n",
              "      <th></th>\n",
              "    </tr>\n",
              "  </thead>\n",
              "  <tbody>\n",
              "    <tr>\n",
              "      <th>2019-08-23</th>\n",
              "      <td>2847.11</td>\n",
              "      <td>2883.120850</td>\n",
              "    </tr>\n",
              "    <tr>\n",
              "      <th>2019-08-26</th>\n",
              "      <td>2878.38</td>\n",
              "      <td>2879.343994</td>\n",
              "    </tr>\n",
              "    <tr>\n",
              "      <th>2019-08-27</th>\n",
              "      <td>2869.16</td>\n",
              "      <td>2875.289062</td>\n",
              "    </tr>\n",
              "    <tr>\n",
              "      <th>2019-08-28</th>\n",
              "      <td>2887.94</td>\n",
              "      <td>2870.275879</td>\n",
              "    </tr>\n",
              "    <tr>\n",
              "      <th>2019-08-29</th>\n",
              "      <td>2924.58</td>\n",
              "      <td>2867.614014</td>\n",
              "    </tr>\n",
              "    <tr>\n",
              "      <th>...</th>\n",
              "      <td>...</td>\n",
              "      <td>...</td>\n",
              "    </tr>\n",
              "    <tr>\n",
              "      <th>2021-11-09</th>\n",
              "      <td>4685.25</td>\n",
              "      <td>4483.261230</td>\n",
              "    </tr>\n",
              "    <tr>\n",
              "      <th>2021-11-10</th>\n",
              "      <td>4646.71</td>\n",
              "      <td>4492.780273</td>\n",
              "    </tr>\n",
              "    <tr>\n",
              "      <th>2021-11-11</th>\n",
              "      <td>4649.27</td>\n",
              "      <td>4494.415527</td>\n",
              "    </tr>\n",
              "    <tr>\n",
              "      <th>2021-11-12</th>\n",
              "      <td>4682.85</td>\n",
              "      <td>4492.790039</td>\n",
              "    </tr>\n",
              "    <tr>\n",
              "      <th>2021-11-15</th>\n",
              "      <td>4682.80</td>\n",
              "      <td>4493.853027</td>\n",
              "    </tr>\n",
              "  </tbody>\n",
              "</table>\n",
              "<p>563 rows × 2 columns</p>\n",
              "</div>"
            ],
            "text/plain": [
              "              Close  Predictions\n",
              "Date                            \n",
              "2019-08-23  2847.11  2883.120850\n",
              "2019-08-26  2878.38  2879.343994\n",
              "2019-08-27  2869.16  2875.289062\n",
              "2019-08-28  2887.94  2870.275879\n",
              "2019-08-29  2924.58  2867.614014\n",
              "...             ...          ...\n",
              "2021-11-09  4685.25  4483.261230\n",
              "2021-11-10  4646.71  4492.780273\n",
              "2021-11-11  4649.27  4494.415527\n",
              "2021-11-12  4682.85  4492.790039\n",
              "2021-11-15  4682.80  4493.853027\n",
              "\n",
              "[563 rows x 2 columns]"
            ]
          },
          "metadata": {},
          "execution_count": 19
        }
      ]
    },
    {
      "cell_type": "code",
      "metadata": {
        "colab": {
          "base_uri": "https://localhost:8080/"
        },
        "id": "I_8jF1W4GaCf",
        "outputId": "2bd3980a-f9f6-4501-ae2d-eecb841f809d"
      },
      "source": [
        "#get the quote\n",
        "sp_quote= web.DataReader('^SPX', data_source='stooq' , start='2010-09-10', end= today )\n",
        "sp_quote = sp_quote.iloc[::-1]\n",
        "#create new dataframe\n",
        "new_df= sp_quote.filter(['Close'])\n",
        "#get the last 60 day closing price values and convert the dataframe to an array\n",
        "last_60_days = new_df[-60:].values\n",
        "#scale the data to be values between 0 and 1\n",
        "last_60_days_scaled = scaler.transform(last_60_days)\n",
        "#create an empty list\n",
        "X_test = []\n",
        "#append the past 60 days\n",
        "X_test.append(last_60_days_scaled)\n",
        "#convert the x_test data set to a numpy array\n",
        "X_test = np.array(X_test)\n",
        "#reshape the data\n",
        "X_test = np.reshape(X_test, (X_test.shape[0], X_test.shape[1], 1))\n",
        "#get the predicted scaled price\n",
        "pred_price = model.predict(X_test)\n",
        "#undo the scaling\n",
        "pred_price = scaler.inverse_transform(pred_price)\n",
        "print(pred_price)"
      ],
      "execution_count": null,
      "outputs": [
        {
          "output_type": "stream",
          "name": "stdout",
          "text": [
            "[[4495.719]]\n"
          ]
        }
      ]
    },
    {
      "cell_type": "code",
      "metadata": {
        "colab": {
          "base_uri": "https://localhost:8080/"
        },
        "id": "x5025WAx2eVO",
        "outputId": "427315f4-332d-4016-9134-4b9833e44463"
      },
      "source": [
        "#get the quote\n",
        "sp_quote2= web.DataReader('^SPX', data_source='stooq' , start='2021-11-16', end='2021-11-16' )\n",
        "print(sp_quote2['Close'])"
      ],
      "execution_count": null,
      "outputs": [
        {
          "output_type": "stream",
          "name": "stdout",
          "text": [
            "Date\n",
            "2021-11-16    4700.9\n",
            "Name: Close, dtype: float64\n"
          ]
        }
      ]
    }
  ]
}